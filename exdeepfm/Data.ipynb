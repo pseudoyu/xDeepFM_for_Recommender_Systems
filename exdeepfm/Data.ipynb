{
 "cells": [
  {
   "cell_type": "code",
   "execution_count": 1,
   "metadata": {},
   "outputs": [],
   "source": [
    "# -*- coding: utf-8 -*-\n",
    "import sys, csv, math\n",
    "from collections import defaultdict\n",
    "import random"
   ]
  },
  {
   "cell_type": "code",
   "execution_count": null,
   "metadata": {},
   "outputs": [],
   "source": [
    "my_input_path = r\"C:\\Users\\Ariel\\Downloads\\dac.tar\\dac\"\n",
    "my_output_path = r\"D:\\OneDrive - HKUST Connect\\MscCompSc\\Computational intelligence and machine learning\\project\""
   ]
  },
  {
   "cell_type": "code",
   "execution_count": 2,
   "metadata": {},
   "outputs": [],
   "source": [
    "def sample(input_path, train_path, eval_path, test_path, fieldnames, ratio=0.8):\n",
    "    train_out = open(train_path, 'w')\n",
    "    eval_out = open(eval_path, 'w')\n",
    "    test_out = open(test_path, 'w')\n",
    "    train_out.write(\"\\t\".join(fieldnames)+\"\\n\")\n",
    "    eval_out.write(\"\\t\".join(fieldnames)+\"\\n\")\n",
    "    test_out.write(\"\\t\".join(fieldnames)+\"\\n\")\n",
    "    for index, line in enumerate(open(input_path, 'r')):\n",
    "        p = random.random()\n",
    "        if p < ratio:\n",
    "            train_out.write(line)\n",
    "        elif p < ratio + 0.1:\n",
    "            eval_out.write(line)\n",
    "        else:\n",
    "            test_out.write(line)\n",
    "    train_out.close()\n",
    "    eval_out.close()\n",
    "    test_out.close()\n",
    "\"\"\"\n",
    "sample(input_path, train_file, eval_file)\n",
    "# 统计category feat的词频\n",
    "feat_cnt = defaultdict(lambda: 0)\n",
    "\"\"\"\n",
    "def scan(filename, feat_cnt):\n",
    "    for row in csv.DictReader(open(filename), delimiter='\\t'):\n",
    "        for key, val in row.items():\n",
    "            if 'C' in key:\n",
    "                if val == '':\n",
    "                    feat_cnt[str(key) + '#' + 'absence'] += 1\n",
    "                else:\n",
    "                    feat_cnt[str(key) + '#' + str(val)] += 1\n",
    "\"\"\"\n",
    "scan(train_file)\n",
    "scan(eval_file)\n",
    "scan(test_file)\n",
    "# 离散特征判断为长尾的阈值\n",
    "T = 4 \n",
    "\"\"\"\n",
    "#考虑连续特征离散化和长尾特征之后，统计训练集和测试集中的feat\n",
    "def get_feat(featSet, filename):\n",
    "    for row in csv.DictReader(open(filename), delimiter='\\t'):\n",
    "        for key, val in row.items():\n",
    "            if 'I' in key and key != \"Id\":\n",
    "                if val == '':\n",
    "                    featSet.add(str(key) + '#' + 'absence')\n",
    "                else:\n",
    "                    val = int(val)\n",
    "                    if val > 2:\n",
    "                        val = int(math.log(float(val)) ** 2)\n",
    "                    else:\n",
    "                        val = 'SP' + str(val)\n",
    "                    featSet.add(str(key) + '#' + str(val))\n",
    "                continue\n",
    "            if 'C' in key:\n",
    "                if val == '':\n",
    "                    feat = str(key) + '#' + 'absence'\n",
    "                else:\n",
    "                    feat = str(key) + '#' + str(val)\n",
    "                if feat_cnt[feat] > T:\n",
    "                    featSet.add(feat)\n",
    "                else:\n",
    "                    featSet.add(str(key) + '#' + str(feat_cnt[feat]))\n",
    "                continue"
   ]
  },
  {
   "cell_type": "code",
   "execution_count": 3,
   "metadata": {},
   "outputs": [],
   "source": [
    "fieldnames = [\"Label\", 'I1', 'I2', 'I3', 'I4', 'I5', 'I6', 'I7', 'I8', 'I9', 'I10', 'I11', 'I12', 'I13', 'C1', 'C2', 'C3',\n",
    "             'C4', 'C5', 'C6', 'C7', 'C8', 'C9', 'C10', 'C11', 'C12', 'C13', 'C14', 'C15', 'C16', 'C17', 'C18',\n",
    "             'C19', 'C20', 'C21', 'C22', 'C23', 'C24', 'C25', 'C26']\n",
    "input_path = r\"{}\\train.txt\".format(my_input_path)\n",
    "train_file = r\"{}\\train.txt\".format(my_output_path)\n",
    "eval_file = r\"{}\\eval.txt\".format(my_output_path)\n",
    "test_file = r\"{}\\test.txt\".format(my_output_path)"
   ]
  },
  {
   "cell_type": "code",
   "execution_count": null,
   "metadata": {},
   "outputs": [],
   "source": [
    "sample(input_path, train_file, eval_file, test_file, fieldnames)"
   ]
  },
  {
   "cell_type": "code",
   "execution_count": 4,
   "metadata": {},
   "outputs": [
    {
     "name": "stdout",
     "output_type": "stream",
     "text": [
      "train and test data total feat num: 2088201\n",
      "feat dict num: 2088201\n"
     ]
    }
   ],
   "source": [
    "# 统计category feat的词频\n",
    "feat_cnt = defaultdict(lambda: 0)\n",
    "scan(train_file, feat_cnt)\n",
    "scan(eval_file, feat_cnt)\n",
    "scan(test_file, feat_cnt)\n",
    "# 离散特征判断为长尾的阈值\n",
    "T = 4\n",
    "featSet = set()\n",
    "get_feat(featSet, train_file)\n",
    "get_feat(featSet, test_file)\n",
    "get_feat(featSet, eval_file)\n",
    "\n",
    "print('train and test data total feat num:', len(featSet))\n",
    "\n",
    "featIndex = dict()\n",
    "for index, feat in enumerate(featSet, start=1):\n",
    "    featIndex[feat] = index\n",
    "    # print(index, feat)\n",
    "print('feat dict num:', len(featIndex))"
   ]
  },
  {
   "cell_type": "code",
   "execution_count": 5,
   "metadata": {},
   "outputs": [],
   "source": [
    "def convert_to_ffm(src_path, dst_path, fieldIndex, featIndex):\n",
    "    out = open(dst_path, 'w')\n",
    "    for row in csv.DictReader(open(src_path), delimiter='\\t'):\n",
    "        feats = []\n",
    "        feats.append(row['Label'])\n",
    "        for key, val in row.items():\n",
    "            #print(key, val)\n",
    "            if key == 'Label':\n",
    "                continue\n",
    "            if 'I' in key and key != \"Id\":\n",
    "                if val == '':\n",
    "                    feat = str(key) + '#' + 'absence'\n",
    "                else:\n",
    "                    val = int(val)\n",
    "                    if val > 2:\n",
    "                        val = int(math.log(float(val)) ** 2)\n",
    "                    else:\n",
    "                        val = 'SP' + str(val)\n",
    "                    feat = str(key) + '#' + str(val)\n",
    "                feats.append(str(fieldIndex[key]) + ':' + str(featIndex[feat]) + ':1')\n",
    "                continue\n",
    "            if 'C' in key:\n",
    "                if val == '':\n",
    "                    feat = str(key) + '#' + 'absence'\n",
    "                else:\n",
    "                    feat = str(key) + '#' + str(val)\n",
    "                if feat_cnt[feat] > T:\n",
    "                    feat = feat\n",
    "                else:\n",
    "                    feat = str(key) + '#' + str(feat_cnt[feat])\n",
    "                feats.append(str(fieldIndex[key]) + ':' + str(featIndex[feat]) + ':1')\n",
    "                continue\n",
    "        out.write(' '.join(feats) + '\\n')\n",
    "    out.close()"
   ]
  },
  {
   "cell_type": "code",
   "execution_count": 6,
   "metadata": {},
   "outputs": [
    {
     "name": "stdout",
     "output_type": "stream",
     "text": [
      "field dict num: 39\n"
     ]
    }
   ],
   "source": [
    "fieldIndex = dict()\n",
    "fieldList = ['I1', 'I2', 'I3', 'I4', 'I5', 'I6', 'I7', 'I8', 'I9', 'I10', 'I11', 'I12', 'I13', 'C1', 'C2', 'C3',\n",
    "             'C4', 'C5', 'C6', 'C7', 'C8', 'C9', 'C10', 'C11', 'C12', 'C13', 'C14', 'C15', 'C16', 'C17', 'C18',\n",
    "             'C19', 'C20', 'C21', 'C22', 'C23', 'C24', 'C25', 'C26']\n",
    "\n",
    "for index, field in enumerate(fieldList, start=1):\n",
    "    fieldIndex[field] = index\n",
    "print('field dict num:', len(fieldIndex))\n",
    "\n",
    "convert_to_ffm(train_file, r\"{}\\train.userid.txt\".format(my_output_path), \n",
    "               fieldIndex, featIndex)\n",
    "convert_to_ffm(eval_file, r\"{}\\eval.userid.txt\".format(my_output_path), \n",
    "               fieldIndex, featIndex)\n",
    "convert_to_ffm(test_file, r\"{}\\test.userid.txt\".format(my_output_path), \n",
    "               fieldIndex, featIndex)"
   ]
  },
  {
   "cell_type": "code",
   "execution_count": null,
   "metadata": {},
   "outputs": [],
   "source": []
  }
 ],
 "metadata": {
  "kernelspec": {
   "display_name": "Python 3",
   "language": "python",
   "name": "python3"
  },
  "language_info": {
   "codemirror_mode": {
    "name": "ipython",
    "version": 3
   },
   "file_extension": ".py",
   "mimetype": "text/x-python",
   "name": "python",
   "nbconvert_exporter": "python",
   "pygments_lexer": "ipython3",
   "version": "3.8.3"
  }
 },
 "nbformat": 4,
 "nbformat_minor": 4
}
